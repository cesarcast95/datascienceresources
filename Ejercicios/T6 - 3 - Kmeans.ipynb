{
 "cells": [
  {
   "cell_type": "markdown",
   "metadata": {},
   "source": [
    "# El método de k-means\n"
   ]
  },
  {
   "cell_type": "code",
   "execution_count": 2,
   "metadata": {},
   "outputs": [],
   "source": [
    "import numpy as np"
   ]
  },
  {
   "cell_type": "code",
   "execution_count": 5,
   "metadata": {},
   "outputs": [
    {
     "data": {
      "text/plain": [
       "array([[0.07686483, 0.51422725, 0.99467043],\n",
       "       [0.63841531, 0.76687266, 0.95754541],\n",
       "       [0.02165067, 0.69785797, 0.52614654],\n",
       "       [0.71801196, 0.3857519 , 0.8682573 ],\n",
       "       [0.16587388, 0.14736123, 0.73477528],\n",
       "       [0.10851905, 0.56914933, 0.59873535],\n",
       "       [0.98644953, 0.95871797, 0.11726454],\n",
       "       [0.25772069, 0.52994988, 0.98462739],\n",
       "       [0.83135588, 0.92129945, 0.5133856 ],\n",
       "       [0.10117144, 0.68897328, 0.78105531],\n",
       "       [0.93618968, 0.05987685, 0.70819364],\n",
       "       [0.47358134, 0.65886627, 0.8195501 ],\n",
       "       [0.81808339, 0.15197041, 0.48364023],\n",
       "       [0.19326392, 0.38331896, 0.09689997],\n",
       "       [0.7663356 , 0.40324688, 0.26030547],\n",
       "       [0.97742371, 0.33696693, 0.81157541],\n",
       "       [0.70962274, 0.58420413, 0.3953894 ],\n",
       "       [0.17378145, 0.33507851, 0.59555576],\n",
       "       [0.71990711, 0.89784953, 0.90822027],\n",
       "       [0.35556034, 0.95467944, 0.82404893],\n",
       "       [0.8673558 , 0.06029675, 0.64614369],\n",
       "       [0.9357965 , 0.15616486, 0.50342041],\n",
       "       [0.69759902, 0.98104495, 0.67918421],\n",
       "       [0.26176466, 0.45425851, 0.76800517],\n",
       "       [0.19105708, 0.59086161, 0.69516141],\n",
       "       [0.20013819, 0.7331703 , 0.51802791],\n",
       "       [0.080667  , 0.00774026, 0.19010097],\n",
       "       [0.69642435, 0.83781435, 0.37674878],\n",
       "       [0.71073863, 0.72426488, 0.92478444],\n",
       "       [0.13707183, 0.48888118, 0.04457243]])"
      ]
     },
     "execution_count": 5,
     "metadata": {},
     "output_type": "execute_result"
    }
   ],
   "source": [
    "data = np.random.random(90).reshape(30,3) # 30 filas por 3 columnas\n",
    "data"
   ]
  },
  {
   "cell_type": "code",
   "execution_count": 6,
   "metadata": {},
   "outputs": [
    {
     "data": {
      "text/plain": [
       "array([[0.17378145, 0.33507851, 0.59555576],\n",
       "       [0.71990711, 0.89784953, 0.90822027]])"
      ]
     },
     "execution_count": 6,
     "metadata": {},
     "output_type": "execute_result"
    }
   ],
   "source": [
    "c1= np.random.choice(range(len(data)))\n",
    "c2= np.random.choice(range(len(data)))\n",
    "clust_centers=np.vstack([data[c1], data[c2]])\n",
    "clust_centers"
   ]
  },
  {
   "cell_type": "code",
   "execution_count": 7,
   "metadata": {},
   "outputs": [],
   "source": [
    "from scipy.cluster.vq import vq"
   ]
  },
  {
   "cell_type": "code",
   "execution_count": 8,
   "metadata": {},
   "outputs": [
    {
     "data": {
      "text/plain": [
       "(array([0, 1, 0, 1, 0, 0, 1, 0, 1, 0, 0, 1, 0, 0, 0, 1, 1, 0, 1, 1, 0, 0,\n",
       "        1, 0, 0, 0, 0, 1, 1, 0], dtype=int32),\n",
       " array([0.44808439, 0.16195315, 0.39946258, 0.51365807, 0.23384264,\n",
       "        0.24301943, 0.83687562, 0.44316744, 0.41093205, 0.40610812,\n",
       "        0.81834562, 0.35447396, 0.67910136, 0.50136245, 0.68422226,\n",
       "        0.62469538, 0.60122767, 0.        , 0.        , 0.37823672,\n",
       "        0.74773627, 0.78814082, 0.24469705, 0.22734053, 0.27503587,\n",
       "        0.40642628, 0.52935264, 0.5353668 , 0.17461404, 0.57322377]))"
      ]
     },
     "execution_count": 8,
     "metadata": {},
     "output_type": "execute_result"
    }
   ],
   "source": [
    "vq(data, clust_centers)"
   ]
  },
  {
   "cell_type": "code",
   "execution_count": 9,
   "metadata": {},
   "outputs": [],
   "source": [
    "from scipy.cluster.vq import kmeans"
   ]
  },
  {
   "cell_type": "code",
   "execution_count": 11,
   "metadata": {},
   "outputs": [
    {
     "data": {
      "text/plain": [
       "(array([[0.34962809, 0.38735467, 0.56277985],\n",
       "        [0.70959083, 0.75069437, 0.6829962 ]]), 0.4170884305825048)"
      ]
     },
     "execution_count": 11,
     "metadata": {},
     "output_type": "execute_result"
    }
   ],
   "source": [
    "kmeans(data, clust_centers) #Arroja información de los varicentros"
   ]
  },
  {
   "cell_type": "code",
   "execution_count": 12,
   "metadata": {},
   "outputs": [
    {
     "data": {
      "text/plain": [
       "(array([[0.18657909, 0.51695826, 0.6114622 ],\n",
       "        [0.80064728, 0.54842283, 0.61027059]]), 0.38202043023900883)"
      ]
     },
     "execution_count": 12,
     "metadata": {},
     "output_type": "execute_result"
    }
   ],
   "source": [
    "kmeans(data, 2)"
   ]
  },
  {
   "cell_type": "code",
   "execution_count": null,
   "metadata": {},
   "outputs": [],
   "source": []
  }
 ],
 "metadata": {
  "kernelspec": {
   "display_name": "Python 3",
   "language": "python",
   "name": "python3"
  },
  "language_info": {
   "codemirror_mode": {
    "name": "ipython",
    "version": 3
   },
   "file_extension": ".py",
   "mimetype": "text/x-python",
   "name": "python",
   "nbconvert_exporter": "python",
   "pygments_lexer": "ipython3",
   "version": "3.6.9"
  }
 },
 "nbformat": 4,
 "nbformat_minor": 2
}
